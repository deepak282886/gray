{
 "cells": [
  {
   "cell_type": "code",
   "execution_count": 25,
   "id": "325988d2",
   "metadata": {},
   "outputs": [
    {
     "name": "stdout",
     "output_type": "stream",
     "text": [
      "Collecting stable-baselines3[extra]\n",
      "  Obtaining dependency information for stable-baselines3[extra] from https://files.pythonhosted.org/packages/06/6a/c3098a78a63b5a48e18c11d80b8c532f8b7785d6abb1329cfe3034572161/stable_baselines3-2.3.2-py3-none-any.whl.metadata\n",
      "  Downloading stable_baselines3-2.3.2-py3-none-any.whl.metadata (5.1 kB)\n",
      "Collecting gymnasium<0.30,>=0.28.1 (from stable-baselines3[extra])\n",
      "  Obtaining dependency information for gymnasium<0.30,>=0.28.1 from https://files.pythonhosted.org/packages/a8/4d/3cbfd81ed84db450dbe73a89afcd8bc405273918415649ac6683356afe92/gymnasium-0.29.1-py3-none-any.whl.metadata\n",
      "  Downloading gymnasium-0.29.1-py3-none-any.whl.metadata (10 kB)\n",
      "Requirement already satisfied: numpy>=1.20 in /home/deepak/anaconda3/lib/python3.11/site-packages (from stable-baselines3[extra]) (1.24.3)\n",
      "Requirement already satisfied: torch>=1.13 in /home/deepak/anaconda3/lib/python3.11/site-packages (from stable-baselines3[extra]) (2.2.2)\n",
      "Requirement already satisfied: cloudpickle in /home/deepak/anaconda3/lib/python3.11/site-packages (from stable-baselines3[extra]) (2.2.1)\n",
      "Requirement already satisfied: pandas in /home/deepak/anaconda3/lib/python3.11/site-packages (from stable-baselines3[extra]) (2.0.3)\n",
      "Requirement already satisfied: matplotlib in /home/deepak/anaconda3/lib/python3.11/site-packages (from stable-baselines3[extra]) (3.7.2)\n",
      "Collecting opencv-python (from stable-baselines3[extra])\n",
      "  Obtaining dependency information for opencv-python from https://files.pythonhosted.org/packages/3f/a4/d2537f47fd7fcfba966bd806e3ec18e7ee1681056d4b0a9c8d983983e4d5/opencv_python-4.10.0.84-cp37-abi3-manylinux_2_17_x86_64.manylinux2014_x86_64.whl.metadata\n",
      "  Downloading opencv_python-4.10.0.84-cp37-abi3-manylinux_2_17_x86_64.manylinux2014_x86_64.whl.metadata (20 kB)\n",
      "Collecting pygame (from stable-baselines3[extra])\n",
      "  Obtaining dependency information for pygame from https://files.pythonhosted.org/packages/5f/0d/64b84142b477c0d7041bd93a91d4dc6d7901dad4f58323f69779c86757f5/pygame-2.5.2-cp311-cp311-manylinux_2_17_x86_64.manylinux2014_x86_64.whl.metadata\n",
      "  Downloading pygame-2.5.2-cp311-cp311-manylinux_2_17_x86_64.manylinux2014_x86_64.whl.metadata (13 kB)\n",
      "Collecting tensorboard>=2.9.1 (from stable-baselines3[extra])\n",
      "  Obtaining dependency information for tensorboard>=2.9.1 from https://files.pythonhosted.org/packages/0a/32/2e8545fb0592f33e3aca5951e8b01008b76d61b440658cbdc37b4eaebf0b/tensorboard-2.17.0-py3-none-any.whl.metadata\n",
      "  Downloading tensorboard-2.17.0-py3-none-any.whl.metadata (1.6 kB)\n",
      "Requirement already satisfied: psutil in /home/deepak/anaconda3/lib/python3.11/site-packages (from stable-baselines3[extra]) (5.9.0)\n",
      "Requirement already satisfied: tqdm in /home/deepak/anaconda3/lib/python3.11/site-packages (from stable-baselines3[extra]) (4.65.0)\n",
      "Requirement already satisfied: rich in /home/deepak/anaconda3/lib/python3.11/site-packages (from stable-baselines3[extra]) (13.7.0)\n",
      "Collecting shimmy[atari]~=1.3.0 (from stable-baselines3[extra])\n",
      "  Obtaining dependency information for shimmy[atari]~=1.3.0 from https://files.pythonhosted.org/packages/dc/f9/07ef16463db14ac1b30f149c379760f5cacf3fc677b295d29a92f3127914/Shimmy-1.3.0-py3-none-any.whl.metadata\n",
      "  Downloading Shimmy-1.3.0-py3-none-any.whl.metadata (3.7 kB)\n",
      "Requirement already satisfied: pillow in /home/deepak/anaconda3/lib/python3.11/site-packages (from stable-baselines3[extra]) (9.4.0)\n",
      "Collecting autorom[accept-rom-license]~=0.6.1 (from stable-baselines3[extra])\n",
      "  Obtaining dependency information for autorom[accept-rom-license]~=0.6.1 from https://files.pythonhosted.org/packages/02/e1/90b168a5dbc89a4e9b2206a99238f3ea3fc281052bb2dc236d4aa15e5e87/AutoROM-0.6.1-py3-none-any.whl.metadata\n",
      "  Downloading AutoROM-0.6.1-py3-none-any.whl.metadata (2.4 kB)\n",
      "Requirement already satisfied: click in /home/deepak/anaconda3/lib/python3.11/site-packages (from autorom[accept-rom-license]~=0.6.1->stable-baselines3[extra]) (8.1.7)\n",
      "Requirement already satisfied: requests in /home/deepak/anaconda3/lib/python3.11/site-packages (from autorom[accept-rom-license]~=0.6.1->stable-baselines3[extra]) (2.31.0)\n",
      "Collecting AutoROM.accept-rom-license (from autorom[accept-rom-license]~=0.6.1->stable-baselines3[extra])\n",
      "  Downloading AutoROM.accept-rom-license-0.6.1.tar.gz (434 kB)\n",
      "\u001b[2K     \u001b[38;2;114;156;31m━━━━━━━━━━━━━━━━━━━━━━━━━━━━━━━━━━━━━━━\u001b[0m \u001b[32m434.7/434.7 kB\u001b[0m \u001b[31m3.2 MB/s\u001b[0m eta \u001b[36m0:00:00\u001b[0m MB/s\u001b[0m eta \u001b[36m0:00:01\u001b[0m:01\u001b[0m\n",
      "\u001b[?25h  Installing build dependencies ... \u001b[?25ldone\n",
      "\u001b[?25h  Getting requirements to build wheel ... \u001b[?25ldone\n",
      "\u001b[?25h  Preparing metadata (pyproject.toml) ... \u001b[?25ldone\n",
      "\u001b[?25hRequirement already satisfied: typing-extensions>=4.3.0 in /home/deepak/anaconda3/lib/python3.11/site-packages (from gymnasium<0.30,>=0.28.1->stable-baselines3[extra]) (4.9.0)\n",
      "Collecting farama-notifications>=0.0.1 (from gymnasium<0.30,>=0.28.1->stable-baselines3[extra])\n",
      "  Obtaining dependency information for farama-notifications>=0.0.1 from https://files.pythonhosted.org/packages/05/2c/ffc08c54c05cdce6fbed2aeebc46348dbe180c6d2c541c7af7ba0aa5f5f8/Farama_Notifications-0.0.4-py3-none-any.whl.metadata\n",
      "  Using cached Farama_Notifications-0.0.4-py3-none-any.whl.metadata (558 bytes)\n",
      "Collecting ale-py~=0.8.1 (from shimmy[atari]~=1.3.0->stable-baselines3[extra])\n",
      "  Obtaining dependency information for ale-py~=0.8.1 from https://files.pythonhosted.org/packages/29/84/52f94d9948e1800337c91ad19bafd36cf05745352416a7ce5fac68c2a55e/ale_py-0.8.1-cp311-cp311-manylinux_2_17_x86_64.manylinux2014_x86_64.whl.metadata\n",
      "  Downloading ale_py-0.8.1-cp311-cp311-manylinux_2_17_x86_64.manylinux2014_x86_64.whl.metadata (8.1 kB)\n",
      "Requirement already satisfied: absl-py>=0.4 in /home/deepak/anaconda3/lib/python3.11/site-packages (from tensorboard>=2.9.1->stable-baselines3[extra]) (2.1.0)\n",
      "Requirement already satisfied: grpcio>=1.48.2 in /home/deepak/.local/lib/python3.11/site-packages (from tensorboard>=2.9.1->stable-baselines3[extra]) (1.60.1)\n",
      "Requirement already satisfied: markdown>=2.6.8 in /home/deepak/anaconda3/lib/python3.11/site-packages (from tensorboard>=2.9.1->stable-baselines3[extra]) (3.4.1)\n",
      "Requirement already satisfied: protobuf!=4.24.0,<5.0.0,>=3.19.6 in /home/deepak/anaconda3/lib/python3.11/site-packages (from tensorboard>=2.9.1->stable-baselines3[extra]) (4.25.2)\n",
      "Requirement already satisfied: setuptools>=41.0.0 in /home/deepak/anaconda3/lib/python3.11/site-packages (from tensorboard>=2.9.1->stable-baselines3[extra]) (68.0.0)\n",
      "Requirement already satisfied: six>1.9 in /home/deepak/anaconda3/lib/python3.11/site-packages (from tensorboard>=2.9.1->stable-baselines3[extra]) (1.16.0)\n",
      "Collecting tensorboard-data-server<0.8.0,>=0.7.0 (from tensorboard>=2.9.1->stable-baselines3[extra])\n",
      "  Obtaining dependency information for tensorboard-data-server<0.8.0,>=0.7.0 from https://files.pythonhosted.org/packages/73/c6/825dab04195756cf8ff2e12698f22513b3db2f64925bdd41671bfb33aaa5/tensorboard_data_server-0.7.2-py3-none-manylinux_2_31_x86_64.whl.metadata\n",
      "  Downloading tensorboard_data_server-0.7.2-py3-none-manylinux_2_31_x86_64.whl.metadata (1.1 kB)\n",
      "Requirement already satisfied: werkzeug>=1.0.1 in /home/deepak/anaconda3/lib/python3.11/site-packages (from tensorboard>=2.9.1->stable-baselines3[extra]) (2.2.3)\n",
      "Requirement already satisfied: filelock in /home/deepak/anaconda3/lib/python3.11/site-packages (from torch>=1.13->stable-baselines3[extra]) (3.9.0)\n",
      "Requirement already satisfied: sympy in /home/deepak/anaconda3/lib/python3.11/site-packages (from torch>=1.13->stable-baselines3[extra]) (1.11.1)\n",
      "Requirement already satisfied: networkx in /home/deepak/anaconda3/lib/python3.11/site-packages (from torch>=1.13->stable-baselines3[extra]) (3.1)\n",
      "Requirement already satisfied: jinja2 in /home/deepak/anaconda3/lib/python3.11/site-packages (from torch>=1.13->stable-baselines3[extra]) (3.1.2)\n",
      "Requirement already satisfied: fsspec in /home/deepak/anaconda3/lib/python3.11/site-packages (from torch>=1.13->stable-baselines3[extra]) (2024.2.0)\n",
      "Requirement already satisfied: nvidia-cuda-nvrtc-cu12==12.1.105 in /home/deepak/anaconda3/lib/python3.11/site-packages (from torch>=1.13->stable-baselines3[extra]) (12.1.105)\n",
      "Requirement already satisfied: nvidia-cuda-runtime-cu12==12.1.105 in /home/deepak/anaconda3/lib/python3.11/site-packages (from torch>=1.13->stable-baselines3[extra]) (12.1.105)\n",
      "Requirement already satisfied: nvidia-cuda-cupti-cu12==12.1.105 in /home/deepak/anaconda3/lib/python3.11/site-packages (from torch>=1.13->stable-baselines3[extra]) (12.1.105)\n",
      "Requirement already satisfied: nvidia-cudnn-cu12==8.9.2.26 in /home/deepak/anaconda3/lib/python3.11/site-packages (from torch>=1.13->stable-baselines3[extra]) (8.9.2.26)\n",
      "Requirement already satisfied: nvidia-cublas-cu12==12.1.3.1 in /home/deepak/anaconda3/lib/python3.11/site-packages (from torch>=1.13->stable-baselines3[extra]) (12.1.3.1)\n",
      "Requirement already satisfied: nvidia-cufft-cu12==11.0.2.54 in /home/deepak/anaconda3/lib/python3.11/site-packages (from torch>=1.13->stable-baselines3[extra]) (11.0.2.54)\n",
      "Requirement already satisfied: nvidia-curand-cu12==10.3.2.106 in /home/deepak/anaconda3/lib/python3.11/site-packages (from torch>=1.13->stable-baselines3[extra]) (10.3.2.106)\n",
      "Requirement already satisfied: nvidia-cusolver-cu12==11.4.5.107 in /home/deepak/anaconda3/lib/python3.11/site-packages (from torch>=1.13->stable-baselines3[extra]) (11.4.5.107)\n",
      "Requirement already satisfied: nvidia-cusparse-cu12==12.1.0.106 in /home/deepak/anaconda3/lib/python3.11/site-packages (from torch>=1.13->stable-baselines3[extra]) (12.1.0.106)\n"
     ]
    },
    {
     "name": "stdout",
     "output_type": "stream",
     "text": [
      "Requirement already satisfied: nvidia-nccl-cu12==2.19.3 in /home/deepak/anaconda3/lib/python3.11/site-packages (from torch>=1.13->stable-baselines3[extra]) (2.19.3)\n",
      "Requirement already satisfied: nvidia-nvtx-cu12==12.1.105 in /home/deepak/anaconda3/lib/python3.11/site-packages (from torch>=1.13->stable-baselines3[extra]) (12.1.105)\n",
      "Requirement already satisfied: triton==2.2.0 in /home/deepak/anaconda3/lib/python3.11/site-packages (from torch>=1.13->stable-baselines3[extra]) (2.2.0)\n",
      "Requirement already satisfied: nvidia-nvjitlink-cu12 in /home/deepak/anaconda3/lib/python3.11/site-packages (from nvidia-cusolver-cu12==11.4.5.107->torch>=1.13->stable-baselines3[extra]) (12.4.99)\n",
      "Requirement already satisfied: contourpy>=1.0.1 in /home/deepak/anaconda3/lib/python3.11/site-packages (from matplotlib->stable-baselines3[extra]) (1.0.5)\n",
      "Requirement already satisfied: cycler>=0.10 in /home/deepak/anaconda3/lib/python3.11/site-packages (from matplotlib->stable-baselines3[extra]) (0.11.0)\n",
      "Requirement already satisfied: fonttools>=4.22.0 in /home/deepak/anaconda3/lib/python3.11/site-packages (from matplotlib->stable-baselines3[extra]) (4.25.0)\n",
      "Requirement already satisfied: kiwisolver>=1.0.1 in /home/deepak/anaconda3/lib/python3.11/site-packages (from matplotlib->stable-baselines3[extra]) (1.4.4)\n",
      "Requirement already satisfied: packaging>=20.0 in /home/deepak/anaconda3/lib/python3.11/site-packages (from matplotlib->stable-baselines3[extra]) (23.2)\n",
      "Requirement already satisfied: pyparsing<3.1,>=2.3.1 in /home/deepak/anaconda3/lib/python3.11/site-packages (from matplotlib->stable-baselines3[extra]) (3.0.9)\n",
      "Requirement already satisfied: python-dateutil>=2.7 in /home/deepak/anaconda3/lib/python3.11/site-packages (from matplotlib->stable-baselines3[extra]) (2.8.2)\n",
      "Requirement already satisfied: pytz>=2020.1 in /home/deepak/anaconda3/lib/python3.11/site-packages (from pandas->stable-baselines3[extra]) (2023.3.post1)\n",
      "Requirement already satisfied: tzdata>=2022.1 in /home/deepak/anaconda3/lib/python3.11/site-packages (from pandas->stable-baselines3[extra]) (2023.3)\n",
      "Requirement already satisfied: markdown-it-py>=2.2.0 in /home/deepak/anaconda3/lib/python3.11/site-packages (from rich->stable-baselines3[extra]) (2.2.0)\n",
      "Requirement already satisfied: pygments<3.0.0,>=2.13.0 in /home/deepak/anaconda3/lib/python3.11/site-packages (from rich->stable-baselines3[extra]) (2.15.1)\n",
      "Requirement already satisfied: importlib-resources in /home/deepak/anaconda3/lib/python3.11/site-packages (from ale-py~=0.8.1->shimmy[atari]~=1.3.0->stable-baselines3[extra]) (6.1.1)\n",
      "Requirement already satisfied: mdurl~=0.1 in /home/deepak/anaconda3/lib/python3.11/site-packages (from markdown-it-py>=2.2.0->rich->stable-baselines3[extra]) (0.1.0)\n",
      "Requirement already satisfied: MarkupSafe>=2.1.1 in /home/deepak/anaconda3/lib/python3.11/site-packages (from werkzeug>=1.0.1->tensorboard>=2.9.1->stable-baselines3[extra]) (2.1.1)\n",
      "Requirement already satisfied: charset-normalizer<4,>=2 in /home/deepak/anaconda3/lib/python3.11/site-packages (from requests->autorom[accept-rom-license]~=0.6.1->stable-baselines3[extra]) (2.0.4)\n",
      "Requirement already satisfied: idna<4,>=2.5 in /home/deepak/anaconda3/lib/python3.11/site-packages (from requests->autorom[accept-rom-license]~=0.6.1->stable-baselines3[extra]) (3.4)\n",
      "Requirement already satisfied: urllib3<3,>=1.21.1 in /home/deepak/anaconda3/lib/python3.11/site-packages (from requests->autorom[accept-rom-license]~=0.6.1->stable-baselines3[extra]) (2.2.1)\n",
      "Requirement already satisfied: certifi>=2017.4.17 in /home/deepak/anaconda3/lib/python3.11/site-packages (from requests->autorom[accept-rom-license]~=0.6.1->stable-baselines3[extra]) (2023.7.22)\n",
      "Requirement already satisfied: mpmath>=0.19 in /home/deepak/anaconda3/lib/python3.11/site-packages (from sympy->torch>=1.13->stable-baselines3[extra]) (1.3.0)\n",
      "Downloading gymnasium-0.29.1-py3-none-any.whl (953 kB)\n",
      "\u001b[2K   \u001b[38;2;114;156;31m━━━━━━━━━━━━━━━━━━━━━━━━━━━━━━━━━━━━━━━━\u001b[0m \u001b[32m953.9/953.9 kB\u001b[0m \u001b[31m4.4 MB/s\u001b[0m eta \u001b[36m0:00:00\u001b[0mm eta \u001b[36m0:00:01\u001b[0m[36m0:00:01\u001b[0m\n",
      "\u001b[?25hDownloading tensorboard-2.17.0-py3-none-any.whl (5.5 MB)\n",
      "\u001b[2K   \u001b[38;2;114;156;31m━━━━━━━━━━━━━━━━━━━━━━━━━━━━━━━━━━━━━━━━\u001b[0m \u001b[32m5.5/5.5 MB\u001b[0m \u001b[31m6.8 MB/s\u001b[0m eta \u001b[36m0:00:00\u001b[0mm eta \u001b[36m0:00:01\u001b[0m0:01\u001b[0m:01\u001b[0m\n",
      "\u001b[?25hDownloading opencv_python-4.10.0.84-cp37-abi3-manylinux_2_17_x86_64.manylinux2014_x86_64.whl (62.5 MB)\n",
      "\u001b[2K   \u001b[38;2;114;156;31m━━━━━━━━━━━━━━━━━━━━━━━━━━━━━━━━━━━━━━━━\u001b[0m \u001b[32m62.5/62.5 MB\u001b[0m \u001b[31m10.9 MB/s\u001b[0m eta \u001b[36m0:00:00\u001b[0mm eta \u001b[36m0:00:01\u001b[0m[36m0:00:01\u001b[0m\n",
      "\u001b[?25hDownloading pygame-2.5.2-cp311-cp311-manylinux_2_17_x86_64.manylinux2014_x86_64.whl (14.0 MB)\n",
      "\u001b[2K   \u001b[38;2;114;156;31m━━━━━━━━━━━━━━━━━━━━━━━━━━━━━━━━━━━━━━━━\u001b[0m \u001b[32m14.0/14.0 MB\u001b[0m \u001b[31m9.0 MB/s\u001b[0m eta \u001b[36m0:00:00\u001b[0mm eta \u001b[36m0:00:01\u001b[0m\u001b[36m0:00:01\u001b[0m\n",
      "\u001b[?25hDownloading stable_baselines3-2.3.2-py3-none-any.whl (182 kB)\n",
      "\u001b[2K   \u001b[38;2;114;156;31m━━━━━━━━━━━━━━━━━━━━━━━━━━━━━━━━━━━━━━━━\u001b[0m \u001b[32m182.3/182.3 kB\u001b[0m \u001b[31m13.3 MB/s\u001b[0m eta \u001b[36m0:00:00\u001b[0m\n",
      "\u001b[?25hDownloading ale_py-0.8.1-cp311-cp311-manylinux_2_17_x86_64.manylinux2014_x86_64.whl (1.7 MB)\n",
      "\u001b[2K   \u001b[38;2;114;156;31m━━━━━━━━━━━━━━━━━━━━━━━━━━━━━━━━━━━━━━━━\u001b[0m \u001b[32m1.7/1.7 MB\u001b[0m \u001b[31m14.6 MB/s\u001b[0m eta \u001b[36m0:00:00\u001b[0mm eta \u001b[36m0:00:01\u001b[0m[36m0:00:01\u001b[0m\n",
      "\u001b[?25hUsing cached Farama_Notifications-0.0.4-py3-none-any.whl (2.5 kB)\n",
      "Downloading tensorboard_data_server-0.7.2-py3-none-manylinux_2_31_x86_64.whl (6.6 MB)\n",
      "\u001b[2K   \u001b[38;2;114;156;31m━━━━━━━━━━━━━━━━━━━━━━━━━━━━━━━━━━━━━━━━\u001b[0m \u001b[32m6.6/6.6 MB\u001b[0m \u001b[31m14.2 MB/s\u001b[0m eta \u001b[36m0:00:00\u001b[0mm eta \u001b[36m0:00:01\u001b[0m[36m0:00:01\u001b[0m\n",
      "\u001b[?25hDownloading AutoROM-0.6.1-py3-none-any.whl (9.4 kB)\n",
      "Downloading Shimmy-1.3.0-py3-none-any.whl (37 kB)\n",
      "Building wheels for collected packages: AutoROM.accept-rom-license\n",
      "  Building wheel for AutoROM.accept-rom-license (pyproject.toml) ... \u001b[?25ldone\n",
      "\u001b[?25h  Created wheel for AutoROM.accept-rom-license: filename=AutoROM.accept_rom_license-0.6.1-py3-none-any.whl size=446659 sha256=e54e33e7ed690137b7173b2b525faf3e46f84f64ccb5792c466ca35a7ff4798c\n",
      "  Stored in directory: /home/deepak/.cache/pip/wheels/bc/fc/c6/8aa657c0d2089982f2dabd110efc68c61eb49831fdb7397351\n",
      "Successfully built AutoROM.accept-rom-license\n",
      "Installing collected packages: farama-notifications, tensorboard-data-server, pygame, opencv-python, gymnasium, ale-py, tensorboard, shimmy, AutoROM.accept-rom-license, autorom, stable-baselines3\n",
      "Successfully installed AutoROM.accept-rom-license-0.6.1 ale-py-0.8.1 autorom-0.6.1 farama-notifications-0.0.4 gymnasium-0.29.1 opencv-python-4.10.0.84 pygame-2.5.2 shimmy-1.3.0 stable-baselines3-2.3.2 tensorboard-2.17.0 tensorboard-data-server-0.7.2\n",
      "Note: you may need to restart the kernel to use updated packages.\n"
     ]
    }
   ],
   "source": [
    "pip install stable-baselines3[extra]"
   ]
  },
  {
   "cell_type": "code",
   "execution_count": 74,
   "id": "a9918bb0",
   "metadata": {},
   "outputs": [
    {
     "name": "stdout",
     "output_type": "stream",
     "text": [
      "Collecting optuna\n",
      "  Obtaining dependency information for optuna from https://files.pythonhosted.org/packages/15/da/68883911855d8b4d521f9a370e4e6aab8232b91c1d8d5a8348c4680c6642/optuna-3.6.1-py3-none-any.whl.metadata\n",
      "  Downloading optuna-3.6.1-py3-none-any.whl.metadata (17 kB)\n",
      "Collecting alembic>=1.5.0 (from optuna)\n",
      "  Obtaining dependency information for alembic>=1.5.0 from https://files.pythonhosted.org/packages/7f/50/9fb3a5c80df6eb6516693270621676980acd6d5a9a7efdbfa273f8d616c7/alembic-1.13.1-py3-none-any.whl.metadata\n",
      "  Downloading alembic-1.13.1-py3-none-any.whl.metadata (7.4 kB)\n",
      "Collecting colorlog (from optuna)\n",
      "  Obtaining dependency information for colorlog from https://files.pythonhosted.org/packages/f3/18/3e867ab37a24fdf073c1617b9c7830e06ec270b1ea4694a624038fc40a03/colorlog-6.8.2-py3-none-any.whl.metadata\n",
      "  Downloading colorlog-6.8.2-py3-none-any.whl.metadata (10 kB)\n",
      "Requirement already satisfied: numpy in /home/deepak/anaconda3/lib/python3.11/site-packages (from optuna) (1.24.3)\n",
      "Requirement already satisfied: packaging>=20.0 in /home/deepak/anaconda3/lib/python3.11/site-packages (from optuna) (23.2)\n",
      "Requirement already satisfied: sqlalchemy>=1.3.0 in /home/deepak/anaconda3/lib/python3.11/site-packages (from optuna) (2.0.0)\n",
      "Requirement already satisfied: tqdm in /home/deepak/anaconda3/lib/python3.11/site-packages (from optuna) (4.65.0)\n",
      "Requirement already satisfied: PyYAML in /home/deepak/anaconda3/lib/python3.11/site-packages (from optuna) (6.0)\n",
      "Collecting Mako (from alembic>=1.5.0->optuna)\n",
      "  Obtaining dependency information for Mako from https://files.pythonhosted.org/packages/03/62/70f5a0c2dd208f9f3f2f9afd103aec42ee4d9ad2401d78342f75e9b8da36/Mako-1.3.5-py3-none-any.whl.metadata\n",
      "  Downloading Mako-1.3.5-py3-none-any.whl.metadata (2.9 kB)\n",
      "Requirement already satisfied: typing-extensions>=4 in /home/deepak/anaconda3/lib/python3.11/site-packages (from alembic>=1.5.0->optuna) (4.9.0)\n",
      "Requirement already satisfied: greenlet!=0.4.17 in /home/deepak/anaconda3/lib/python3.11/site-packages (from sqlalchemy>=1.3.0->optuna) (2.0.1)\n",
      "Requirement already satisfied: MarkupSafe>=0.9.2 in /home/deepak/anaconda3/lib/python3.11/site-packages (from Mako->alembic>=1.5.0->optuna) (2.1.1)\n",
      "Downloading optuna-3.6.1-py3-none-any.whl (380 kB)\n",
      "\u001b[2K   \u001b[38;2;114;156;31m━━━━━━━━━━━━━━━━━━━━━━━━━━━━━━━━━━━━━━━━\u001b[0m \u001b[32m380.1/380.1 kB\u001b[0m \u001b[31m7.1 MB/s\u001b[0m eta \u001b[36m0:00:00\u001b[0m[31m8.0 MB/s\u001b[0m eta \u001b[36m0:00:01\u001b[0m\n",
      "\u001b[?25hDownloading alembic-1.13.1-py3-none-any.whl (233 kB)\n",
      "\u001b[2K   \u001b[38;2;114;156;31m━━━━━━━━━━━━━━━━━━━━━━━━━━━━━━━━━━━━━━━━\u001b[0m \u001b[32m233.4/233.4 kB\u001b[0m \u001b[31m17.4 MB/s\u001b[0m eta \u001b[36m0:00:00\u001b[0m\n",
      "\u001b[?25hDownloading colorlog-6.8.2-py3-none-any.whl (11 kB)\n",
      "Downloading Mako-1.3.5-py3-none-any.whl (78 kB)\n",
      "\u001b[2K   \u001b[38;2;114;156;31m━━━━━━━━━━━━━━━━━━━━━━━━━━━━━━━━━━━━━━━━\u001b[0m \u001b[32m78.6/78.6 kB\u001b[0m \u001b[31m25.8 MB/s\u001b[0m eta \u001b[36m0:00:00\u001b[0m\n",
      "\u001b[?25hInstalling collected packages: Mako, colorlog, alembic, optuna\n",
      "Successfully installed Mako-1.3.5 alembic-1.13.1 colorlog-6.8.2 optuna-3.6.1\n"
     ]
    }
   ],
   "source": [
    "!pip install optuna"
   ]
  },
  {
   "cell_type": "code",
   "execution_count": 79,
   "id": "7fc0aa74",
   "metadata": {},
   "outputs": [
    {
     "data": {
      "text/plain": [
       "<stable_baselines3.a2c.a2c.A2C at 0x7f5e84e55490>"
      ]
     },
     "execution_count": 79,
     "metadata": {},
     "output_type": "execute_result"
    }
   ],
   "source": [
    "# Instantiate the environment\n",
    "env = ColorIdentificationGym()  # Example: use 5 colors\n",
    "\n",
    "policy_kwargs = dict(net_arch=[256, 256])\n",
    "# Create and train the A2C agent\n",
    "model = A2C(\"MlpPolicy\", env, learning_rate=0.00019819657216964162, \n",
    "                n_steps=128, gamma=0.995, ent_coef=2.9344241032809393e-06, \n",
    "                policy_kwargs=policy_kwargs, verbose=0) \n",
    "\n",
    "model.learn(total_timesteps=500000)"
   ]
  },
  {
   "cell_type": "code",
   "execution_count": 80,
   "id": "35b550f6",
   "metadata": {},
   "outputs": [
    {
     "data": {
      "image/png": "[encoded data removed]",
      "text/plain": [
       "<Figure size 400x200 with 2 Axes>"
      ]
     },
     "metadata": {},
     "output_type": "display_data"
    },
    {
     "data": {
      "image/png": "[encoded data removed]",
      "text/plain": [
       "<Figure size 400x200 with 2 Axes>"
      ]
     },
     "metadata": {},
     "output_type": "display_data"
    },
    {
     "data": {
      "image/png": "[encoded data removed]",
      "text/plain": [
       "<Figure size 400x200 with 2 Axes>"
      ]
     },
     "metadata": {},
     "output_type": "display_data"
    },
    {
     "data": {
      "image/png": "[encoded data removed]",
      "text/plain": [
       "<Figure size 400x200 with 2 Axes>"
      ]
     },
     "metadata": {},
     "output_type": "display_data"
    },
    {
     "data": {
      "image/png": "[encoded data removed]",
      "text/plain": [
       "<Figure size 400x200 with 2 Axes>"
      ]
     },
     "metadata": {},
     "output_type": "display_data"
    },
    {
     "data": {
      "image/png": "[encoded data removed]",
      "text/plain": [
       "<Figure size 400x200 with 2 Axes>"
      ]
     },
     "metadata": {},
     "output_type": "display_data"
    },
    {
     "data": {
      "image/png": "[encoded data removed]",
      "text/plain": [
       "<Figure size 400x200 with 2 Axes>"
      ]
     },
     "metadata": {},
     "output_type": "display_data"
    },
    {
     "data": {
      "image/png": "[encoded data removed]",
      "text/plain": [
       "<Figure size 400x200 with 2 Axes>"
      ]
     },
     "metadata": {},
     "output_type": "display_data"
    },
    {
     "data": {
      "image/png": "[encoded data removed]",
      "text/plain": [
       "<Figure size 400x200 with 2 Axes>"
      ]
     },
     "metadata": {},
     "output_type": "display_data"
    },
    {
     "data": {
      "image/png": "[encoded data removed]",
      "text/plain": [
       "<Figure size 400x200 with 2 Axes>"
      ]
     },
     "metadata": {},
     "output_type": "display_data"
    },
    {
     "data": {
      "image/png": "[encoded data removed]",
      "text/plain": [
       "<Figure size 400x200 with 2 Axes>"
      ]
     },
     "metadata": {},
     "output_type": "display_data"
    },
    {
     "data": {
      "image/png": "[encoded data removed]",
      "text/plain": [
       "<Figure size 400x200 with 2 Axes>"
      ]
     },
     "metadata": {},
     "output_type": "display_data"
    },
    {
     "data": {
      "image/png": "[encoded data removed]",
      "text/plain": [
       "<Figure size 400x200 with 2 Axes>"
      ]
     },
     "metadata": {},
     "output_type": "display_data"
    },
    {
     "data": {
      "image/png": "[encoded data removed]",
      "text/plain": [
       "<Figure size 400x200 with 2 Axes>"
      ]
     },
     "metadata": {},
     "output_type": "display_data"
    },
    {
     "data": {
      "image/png": "[encoded data removed]",
      "text/plain": [
       "<Figure size 400x200 with 2 Axes>"
      ]
     },
     "metadata": {},
     "output_type": "display_data"
    },
    {
     "data": {
      "image/png": "[encoded data removed]",
      "text/plain": [
       "<Figure size 400x200 with 2 Axes>"
      ]
     },
     "metadata": {},
     "output_type": "display_data"
    },
    {
     "data": {
      "image/png": "[encoded data removed]",
      "text/plain": [
       "<Figure size 400x200 with 2 Axes>"
      ]
     },
     "metadata": {},
     "output_type": "display_data"
    },
    {
     "data": {
      "image/png": "[encoded data removed]",
      "text/plain": [
       "<Figure size 400x200 with 2 Axes>"
      ]
     },
     "metadata": {},
     "output_type": "display_data"
    },
    {
     "data": {
      "image/png": "[encoded data removed]",
      "text/plain": [
       "<Figure size 400x200 with 2 Axes>"
      ]
     },
     "metadata": {},
     "output_type": "display_data"
    },
    {
     "data": {
      "image/png": "[encoded data removed]",
      "text/plain": [
       "<Figure size 400x200 with 2 Axes>"
      ]
     },
     "metadata": {},
     "output_type": "display_data"
    }
   ],
   "source": [
    "eval_env = ColorIdentificationGym()\n",
    "obs, _ = eval_env.reset()\n",
    "\n",
    "for _ in range(20):\n",
    "    action, _states = model.predict(obs)  \n",
    "    predicted_color_index = int(action)  # Get the color index from the prediction\n",
    "    predicted_color = eval_env.colors[predicted_color_index]  # Get the RGB color from the index\n",
    "    obs, rewards, done, truncated, info = eval_env.step(action)\n",
    "    eval_env.render(predicted_color=predicted_color)  # Pass predicted color to render\n",
    "    if done:\n",
    "        obs, _ = eval_env.reset()\n",
    "eval_env.close()"
   ]
  },
  {
   "cell_type": "code",
   "execution_count": 180,
   "id": "0ce2d3fb",
   "metadata": {},
   "outputs": [
    {
     "data": {
      "image/png": "[encoded data removed]",
      "text/plain": [
       "<Figure size 600x300 with 2 Axes>"
      ]
     },
     "metadata": {},
     "output_type": "display_data"
    },
    {
     "data": {
      "image/png": "[encoded data removed]",
      "text/plain": [
       "<Figure size 600x300 with 2 Axes>"
      ]
     },
     "metadata": {},
     "output_type": "display_data"
    },
    {
     "name": "stdout",
     "output_type": "stream",
     "text": [
      "Action: 0, Reward: 1.0, Done: True\n"
     ]
    },
    {
     "data": {
      "image/png": "[encoded data removed]",
      "text/plain": [
       "<Figure size 600x300 with 2 Axes>"
      ]
     },
     "metadata": {},
     "output_type": "display_data"
    },
    {
     "data": {
      "image/png": "[encoded data removed]",
      "text/plain": [
       "<Figure size 600x300 with 2 Axes>"
      ]
     },
     "metadata": {},
     "output_type": "display_data"
    },
    {
     "name": "stdout",
     "output_type": "stream",
     "text": [
      "Action: 1, Reward: 1.0, Done: True\n"
     ]
    },
    {
     "data": {
      "image/png": "[encoded data removed]",
      "text/plain": [
       "<Figure size 600x300 with 2 Axes>"
      ]
     },
     "metadata": {},
     "output_type": "display_data"
    },
    {
     "data": {
      "image/png": "[encoded data removed]",
      "text/plain": [
       "<Figure size 600x300 with 2 Axes>"
      ]
     },
     "metadata": {},
     "output_type": "display_data"
    },
    {
     "name": "stdout",
     "output_type": "stream",
     "text": [
      "Action: 0, Reward: 0.0, Done: True\n"
     ]
    },
    {
     "data": {
      "image/png": "[encoded data removed]",
      "text/plain": [
       "<Figure size 600x300 with 2 Axes>"
      ]
     },
     "metadata": {},
     "output_type": "display_data"
    },
    {
     "data": {
      "image/png": "[encoded data removed]",
      "text/plain": [
       "<Figure size 600x300 with 2 Axes>"
      ]
     },
     "metadata": {},
     "output_type": "display_data"
    },
    {
     "name": "stdout",
     "output_type": "stream",
     "text": [
      "Action: 1, Reward: 1.0, Done: True\n"
     ]
    },
    {
     "data": {
      "image/png": "[encoded data removed]",
      "text/plain": [
       "<Figure size 600x300 with 2 Axes>"
      ]
     },
     "metadata": {},
     "output_type": "display_data"
    },
    {
     "data": {
      "image/png": "[encoded data removed]",
      "text/plain": [
       "<Figure size 600x300 with 2 Axes>"
      ]
     },
     "metadata": {},
     "output_type": "display_data"
    },
    {
     "name": "stdout",
     "output_type": "stream",
     "text": [
      "Action: 0, Reward: 0.0, Done: True\n"
     ]
    }
   ],
   "source": [
    "import gymnasium as gym\n",
    "import numpy as np\n",
    "from gymnasium import spaces\n",
    "import matplotlib.pyplot as plt\n",
    "import random\n",
    "\n",
    "class ShapePatternMatchingGym(gym.Env):\n",
    "    \"\"\"Gym Environment for Shape Pattern Matching with Color Changes.\"\"\"\n",
    "\n",
    "    metadata = {\"render_modes\": [\"human\"], \"render_fps\": 30}\n",
    "\n",
    "    def __init__(self, max_pattern_size=(10, 10)):\n",
    "        super().__init__()\n",
    "\n",
    "        self.max_pattern_size = max_pattern_size\n",
    "        self.action_space = spaces.Discrete(2)  # Two actions: 0 (no color change), 1 (color change)\n",
    "        # Observation space is a single box containing both patterns concatenated along a new axis\n",
    "        self.observation_space = spaces.Box(low=0, high=255, shape=(2, self.max_pattern_size[0], self.max_pattern_size[1], 3), dtype=np.uint8)\n",
    "\n",
    "    def step(self, action):\n",
    "        assert self.action_space.contains(action), f\"{action!r} ({type(action)}) invalid\"\n",
    "\n",
    "        color_change = self.is_color_changed()\n",
    "        reward = 1.0 if (action == 1 and color_change) or (action == 0 and not color_change) else 0.0\n",
    "\n",
    "        terminated = True\n",
    "        truncated = False\n",
    "        info = {}\n",
    "\n",
    "        return self._get_obs(), reward, terminated, truncated, info\n",
    "\n",
    "    def reset(self, seed=None, options=None):\n",
    "        super().reset(seed=seed)\n",
    "        self.pattern_size1 = self.generate_random_size()\n",
    "        self.pattern_size2 = self.generate_random_size()\n",
    "\n",
    "        self.pattern1, self.shapes1 = self.generate_pattern(self.pattern_size1)\n",
    "        self.pattern2, self.shapes2 = self.generate_pattern(self.pattern_size2, self.shapes1)\n",
    "\n",
    "        # Introduce variation\n",
    "        self.color_change = np.random.rand() > 0.5\n",
    "        if not self.color_change:\n",
    "            self.pattern2 = self.copy_with_size_and_location(self.pattern1, self.pattern_size2)\n",
    "        else:\n",
    "            self.apply_variation()\n",
    "\n",
    "        observation = self._get_obs()\n",
    "        return observation\n",
    "\n",
    "    def _get_obs(self):\n",
    "        # Create a new observation array with both patterns concatenated along a new axis\n",
    "        max_rows, max_cols = self.max_pattern_size\n",
    "        obs = np.zeros((2, max_rows, max_cols, 3), dtype=np.uint8)\n",
    "        \n",
    "        obs[0, :self.pattern_size1[0], :self.pattern_size1[1]] = self.pattern1\n",
    "        obs[1, :self.pattern_size2[0], :self.pattern_size2[1]] = self.pattern2\n",
    "        \n",
    "        return obs\n",
    "\n",
    "    def generate_random_size(self):\n",
    "        rows = np.random.randint(1, self.max_pattern_size[0] + 1)\n",
    "        cols = np.random.randint(1, self.max_pattern_size[1] + 1)\n",
    "        return (rows, cols)\n",
    "\n",
    "    def generate_pattern(self, pattern_size, shapes=None):\n",
    "        pattern = np.zeros((pattern_size[0], pattern_size[1], 3), dtype=np.uint8)\n",
    "        if shapes is None:\n",
    "            shapes = self.generate_shapes(pattern_size)\n",
    "        for shape in shapes:\n",
    "            color = np.random.randint(0, 256, size=3)\n",
    "            for x, y in shape:\n",
    "                if x < pattern_size[0] and y < pattern_size[1]:\n",
    "                    pattern[x, y] = color\n",
    "        return pattern, shapes\n",
    "\n",
    "    def generate_shapes(self, pattern_size):\n",
    "        shapes = []\n",
    "        num_shapes = np.random.randint(1, 4)  # Number of shapes\n",
    "        for _ in range(num_shapes):\n",
    "            shape = []\n",
    "            shape_type = np.random.choice(['rectangle', 'line'])\n",
    "            if shape_type == 'rectangle':\n",
    "                x_start = np.random.randint(pattern_size[0])\n",
    "                y_start = np.random.randint(pattern_size[1])\n",
    "                width = np.random.randint(1, pattern_size[0] - x_start + 1)\n",
    "                height = np.random.randint(1, pattern_size[1] - y_start + 1)\n",
    "                for i in range(width):\n",
    "                    for j in range(height):\n",
    "                        shape.append((x_start + i, y_start + j))\n",
    "            elif shape_type == 'line':\n",
    "                x_start = np.random.randint(pattern_size[0])\n",
    "                y_start = np.random.randint(pattern_size[1])\n",
    "                length = np.random.randint(1, max(pattern_size) + 1)  # Ensure valid range\n",
    "                direction = np.random.choice(['horizontal', 'vertical'])\n",
    "                for i in range(length):\n",
    "                    if direction == 'horizontal' and y_start + i < pattern_size[1]:\n",
    "                        shape.append((x_start, y_start + i))\n",
    "                    elif direction == 'vertical' and x_start + i < pattern_size[0]:\n",
    "                        shape.append((x_start + i, y_start))\n",
    "            shapes.append(shape)\n",
    "        return shapes\n",
    "\n",
    "    def apply_variation(self):\n",
    "        variation_type = np.random.choice(['color', 'shape', 'both'])\n",
    "        if variation_type in ['color', 'both']:\n",
    "            for shape in self.shapes2:\n",
    "                color = np.random.randint(0, 256, size=3)\n",
    "                for x, y in shape:\n",
    "                    if x < self.pattern_size2[0] and y < self.pattern_size2[1]:\n",
    "                        self.pattern2[x, y] = color\n",
    "        if variation_type in ['shape', 'both']:\n",
    "            additional_shapes = self.generate_shapes(self.pattern_size2)\n",
    "            for shape in additional_shapes:\n",
    "                color = np.random.randint(0, 256, size=3)\n",
    "                for x, y in shape:\n",
    "                    if x < self.pattern_size2[0] and y < self.pattern_size2[1]:\n",
    "                        self.pattern2[x, y] = color\n",
    "\n",
    "    def is_color_changed(self):\n",
    "        colors1 = set(map(tuple, self.pattern1.reshape(-1, 3)))\n",
    "        colors2 = set(map(tuple, self.pattern2.reshape(-1, 3)))\n",
    "        return colors1 != colors2\n",
    "\n",
    "    def copy_with_size_and_location(self, pattern, size):\n",
    "        new_pattern = np.zeros((size[0], size[1], 3), dtype=np.uint8)\n",
    "        min_rows = min(size[0], pattern.shape[0])\n",
    "        min_cols = min(size[1], pattern.shape[1])\n",
    "        new_pattern[:min_rows, :min_cols] = pattern[:min_rows, :min_cols]\n",
    "        return new_pattern\n",
    "\n",
    "    def render(self, mode=\"human\", predicted_color_change=None):\n",
    "        if mode == \"human\":\n",
    "            fig, axs = plt.subplots(1, 2, figsize=(6, 3))\n",
    "\n",
    "            axs[0].imshow(self.pattern1)\n",
    "            axs[0].set_title(\"Pattern 1\")\n",
    "            axs[0].axis('off')\n",
    "\n",
    "            axs[1].imshow(self.pattern2)\n",
    "            axs[1].set_title(\"Pattern 2\")\n",
    "            axs[1].axis('off')\n",
    "\n",
    "            label = \"Different\" if self.color_change else \"Same\"\n",
    "            plt.suptitle(f\"Patterns are {label}\")\n",
    "\n",
    "            plt.show(block=False)\n",
    "            plt.pause(0.5)\n",
    "            plt.close()\n",
    "        else:\n",
    "            super().render(mode=mode)\n",
    "\n",
    "    def close(self):\n",
    "        pass\n",
    "\n",
    "# Example of using the environment\n",
    "if __name__ == \"__main__\":\n",
    "    env = ShapePatternMatchingGym()\n",
    "\n",
    "    for _ in range(5):  # Run multiple examples to ensure variation\n",
    "        obs = env.reset()\n",
    "        env.render()\n",
    "\n",
    "        action = env.action_space.sample()  # Random action\n",
    "        obs, reward, done, truncated, info = env.step(action)\n",
    "        env.render(predicted_color_change=action)\n",
    "        print(f\"Action: {action}, Reward: {reward}, Done: {done}\")\n",
    "\n",
    "    env.close()\n"
   ]
  },
  {
   "cell_type": "code",
   "execution_count": 181,
   "id": "2ab51e85",
   "metadata": {},
   "outputs": [
    {
     "name": "stdout",
     "output_type": "stream",
     "text": [
      "Using cpu device\n",
      "Wrapping the env with a `Monitor` wrapper\n",
      "Wrapping the env in a DummyVecEnv.\n",
      "------------------------------------\n",
      "| rollout/              |          |\n",
      "|    ep_len_mean        | 1        |\n",
      "|    ep_rew_mean        | 0.65     |\n",
      "| time/                 |          |\n",
      "|    fps                | 1080     |\n",
      "|    iterations         | 100      |\n",
      "|    time_elapsed       | 0        |\n",
      "|    total_timesteps    | 500      |\n",
      "| train/                |          |\n",
      "|    entropy_loss       | -0.539   |\n",
      "|    explained_variance | -1.13    |\n",
      "|    learning_rate      | 0.0007   |\n",
      "|    n_updates          | 99       |\n",
      "|    policy_loss        | -0.0813  |\n",
      "|    value_loss         | 0.368    |\n",
      "------------------------------------\n",
      "------------------------------------\n",
      "| rollout/              |          |\n",
      "|    ep_len_mean        | 1        |\n",
      "|    ep_rew_mean        | 0.7      |\n",
      "| time/                 |          |\n",
      "|    fps                | 1071     |\n",
      "|    iterations         | 200      |\n",
      "|    time_elapsed       | 0        |\n",
      "|    total_timesteps    | 1000     |\n",
      "| train/                |          |\n",
      "|    entropy_loss       | -0.287   |\n",
      "|    explained_variance | 0.668    |\n",
      "|    learning_rate      | 0.0007   |\n",
      "|    n_updates          | 199      |\n",
      "|    policy_loss        | -0.53    |\n",
      "|    value_loss         | 0.292    |\n",
      "------------------------------------\n",
      "------------------------------------\n",
      "| rollout/              |          |\n",
      "|    ep_len_mean        | 1        |\n",
      "|    ep_rew_mean        | 0.67     |\n",
      "| time/                 |          |\n",
      "|    fps                | 1095     |\n",
      "|    iterations         | 300      |\n",
      "|    time_elapsed       | 1        |\n",
      "|    total_timesteps    | 1500     |\n",
      "| train/                |          |\n",
      "|    entropy_loss       | -0.0857  |\n",
      "|    explained_variance | -0.762   |\n",
      "|    learning_rate      | 0.0007   |\n",
      "|    n_updates          | 299      |\n",
      "|    policy_loss        | 0.00488  |\n",
      "|    value_loss         | 0.283    |\n",
      "------------------------------------\n",
      "------------------------------------\n",
      "| rollout/              |          |\n",
      "|    ep_len_mean        | 1        |\n",
      "|    ep_rew_mean        | 0.81     |\n",
      "| time/                 |          |\n",
      "|    fps                | 1104     |\n",
      "|    iterations         | 400      |\n",
      "|    time_elapsed       | 1        |\n",
      "|    total_timesteps    | 2000     |\n",
      "| train/                |          |\n",
      "|    entropy_loss       | -0.137   |\n",
      "|    explained_variance | -0.00113 |\n",
      "|    learning_rate      | 0.0007   |\n",
      "|    n_updates          | 399      |\n",
      "|    policy_loss        | -0.039   |\n",
      "|    value_loss         | 0.265    |\n",
      "------------------------------------\n",
      "------------------------------------\n",
      "| rollout/              |          |\n",
      "|    ep_len_mean        | 1        |\n",
      "|    ep_rew_mean        | 0.81     |\n",
      "| time/                 |          |\n",
      "|    fps                | 1104     |\n",
      "|    iterations         | 500      |\n",
      "|    time_elapsed       | 2        |\n",
      "|    total_timesteps    | 2500     |\n",
      "| train/                |          |\n",
      "|    entropy_loss       | -0.0245  |\n",
      "|    explained_variance | -3.16    |\n",
      "|    learning_rate      | 0.0007   |\n",
      "|    n_updates          | 499      |\n",
      "|    policy_loss        | 0.00435  |\n",
      "|    value_loss         | 0.701    |\n",
      "------------------------------------\n",
      "------------------------------------\n",
      "| rollout/              |          |\n",
      "|    ep_len_mean        | 1        |\n",
      "|    ep_rew_mean        | 0.79     |\n",
      "| time/                 |          |\n",
      "|    fps                | 1113     |\n",
      "|    iterations         | 600      |\n",
      "|    time_elapsed       | 2        |\n",
      "|    total_timesteps    | 3000     |\n",
      "| train/                |          |\n",
      "|    entropy_loss       | -0.0716  |\n",
      "|    explained_variance | -0.148   |\n",
      "|    learning_rate      | 0.0007   |\n",
      "|    n_updates          | 599      |\n",
      "|    policy_loss        | 0.00138  |\n",
      "|    value_loss         | 0.372    |\n",
      "------------------------------------\n",
      "------------------------------------\n",
      "| rollout/              |          |\n",
      "|    ep_len_mean        | 1        |\n",
      "|    ep_rew_mean        | 0.72     |\n",
      "| time/                 |          |\n",
      "|    fps                | 1101     |\n",
      "|    iterations         | 700      |\n",
      "|    time_elapsed       | 3        |\n",
      "|    total_timesteps    | 3500     |\n",
      "| train/                |          |\n",
      "|    entropy_loss       | -0.013   |\n",
      "|    explained_variance | nan      |\n",
      "|    learning_rate      | 0.0007   |\n",
      "|    n_updates          | 699      |\n",
      "|    policy_loss        | 0.000481 |\n",
      "|    value_loss         | 0.135    |\n",
      "------------------------------------\n",
      "------------------------------------\n",
      "| rollout/              |          |\n",
      "|    ep_len_mean        | 1        |\n",
      "|    ep_rew_mean        | 0.8      |\n",
      "| time/                 |          |\n",
      "|    fps                | 1085     |\n",
      "|    iterations         | 800      |\n",
      "|    time_elapsed       | 3        |\n",
      "|    total_timesteps    | 4000     |\n",
      "| train/                |          |\n",
      "|    entropy_loss       | -0.0367  |\n",
      "|    explained_variance | -0.0913  |\n",
      "|    learning_rate      | 0.0007   |\n",
      "|    n_updates          | 799      |\n",
      "|    policy_loss        | 0.00458  |\n",
      "|    value_loss         | 0.239    |\n",
      "------------------------------------\n",
      "-------------------------------------\n",
      "| rollout/              |           |\n",
      "|    ep_len_mean        | 1         |\n",
      "|    ep_rew_mean        | 0.7       |\n",
      "| time/                 |           |\n",
      "|    fps                | 1084      |\n",
      "|    iterations         | 900       |\n",
      "|    time_elapsed       | 4         |\n",
      "|    total_timesteps    | 4500      |\n",
      "| train/                |           |\n",
      "|    entropy_loss       | -0.0185   |\n",
      "|    explained_variance | -0.489    |\n",
      "|    learning_rate      | 0.0007    |\n",
      "|    n_updates          | 899       |\n",
      "|    policy_loss        | -0.000256 |\n",
      "|    value_loss         | 0.443     |\n",
      "-------------------------------------\n",
      "-------------------------------------\n",
      "| rollout/              |           |\n",
      "|    ep_len_mean        | 1         |\n",
      "|    ep_rew_mean        | 0.76      |\n",
      "| time/                 |           |\n",
      "|    fps                | 1093      |\n",
      "|    iterations         | 1000      |\n",
      "|    time_elapsed       | 4         |\n",
      "|    total_timesteps    | 5000      |\n",
      "| train/                |           |\n",
      "|    entropy_loss       | -0.0207   |\n",
      "|    explained_variance | -0.104    |\n",
      "|    learning_rate      | 0.0007    |\n",
      "|    n_updates          | 999       |\n",
      "|    policy_loss        | -0.000166 |\n",
      "|    value_loss         | 0.485     |\n",
      "-------------------------------------\n"
     ]
    },
    {
     "data": {
      "text/plain": [
       "<stable_baselines3.a2c.a2c.A2C at 0x7f5e6d2df010>"
      ]
     },
     "execution_count": 181,
     "metadata": {},
     "output_type": "execute_result"
    }
   ],
   "source": [
    "# Instantiate the environment\n",
    "env = ShapePatternMatchingGym()  \n",
    "\n",
    "policy_kwargs = dict(net_arch=[256, 256])\n",
    "# Create and train the A2C agent\n",
    "model = A2C(\"MlpPolicy\", env, learning_rate=0.00019819657216964162, \n",
    "                n_steps=128, gamma=0.995, ent_coef=2.9344241032809393e-06, \n",
    "                policy_kwargs=policy_kwargs, verbose=0) \n",
    "\n",
    "model.learn(total_timesteps=5000)"
   ]
  },
  {
   "cell_type": "code",
   "execution_count": 182,
   "id": "e1f42125",
   "metadata": {},
   "outputs": [
    {
     "name": "stderr",
     "output_type": "stream",
     "text": [
      "[I 2024-06-19 06:34:40,285] A new study created in memory with name: no-name-55859206-c7ee-4bc9-86a8-fb5a68f808cc\n",
      "/tmp/ipykernel_517384/497443290.py:13: FutureWarning: suggest_loguniform has been deprecated in v3.0.0. This feature will be removed in v6.0.0. See https://github.com/optuna/optuna/releases/tag/v3.0.0. Use suggest_float(..., log=True) instead.\n",
      "  learning_rate = trial.suggest_loguniform('learning_rate', 1e-5, 1e-3)\n",
      "/tmp/ipykernel_517384/497443290.py:16: FutureWarning: suggest_loguniform has been deprecated in v3.0.0. This feature will be removed in v6.0.0. See https://github.com/optuna/optuna/releases/tag/v3.0.0. Use suggest_float(..., log=True) instead.\n",
      "  ent_coef = trial.suggest_loguniform('ent_coef', 0.00000001, 0.1)\n",
      "/home/deepak/anaconda3/lib/python3.11/site-packages/stable_baselines3/common/evaluation.py:67: UserWarning: Evaluation environment is not wrapped with a ``Monitor`` wrapper. This may result in reporting modified episode lengths and rewards, if other wrappers happen to modify these. Consider wrapping environment first with ``Monitor`` wrapper.\n",
      "  warnings.warn(\n",
      "[I 2024-06-19 06:39:37,163] Trial 0 finished with value: 0.9 and parameters: {'learning_rate': 1.0530410834573308e-05, 'n_steps': 64, 'gamma': 0.9, 'ent_coef': 5.500480737398978e-08, 'net_arch': 'medium'}. Best is trial 0 with value: 0.9.\n",
      "[I 2024-06-19 06:44:22,172] Trial 1 finished with value: 0.9 and parameters: {'learning_rate': 4.986110472608148e-05, 'n_steps': 128, 'gamma': 0.9, 'ent_coef': 2.525746941368083e-07, 'net_arch': 'medium'}. Best is trial 0 with value: 0.9.\n",
      "[I 2024-06-19 06:49:03,375] Trial 2 finished with value: 0.7 and parameters: {'learning_rate': 1.3199319840879693e-05, 'n_steps': 256, 'gamma': 0.99, 'ent_coef': 0.0010519060599934167, 'net_arch': 'medium'}. Best is trial 0 with value: 0.9.\n",
      "[I 2024-06-19 06:54:19,702] Trial 3 finished with value: 0.5 and parameters: {'learning_rate': 9.996121629771826e-05, 'n_steps': 16, 'gamma': 0.99, 'ent_coef': 0.0001534715156768082, 'net_arch': 'small'}. Best is trial 0 with value: 0.9.\n",
      "[I 2024-06-19 06:59:00,925] Trial 4 finished with value: 0.9 and parameters: {'learning_rate': 8.684960787139694e-05, 'n_steps': 256, 'gamma': 0.99, 'ent_coef': 2.9010555929346992e-05, 'net_arch': 'medium'}. Best is trial 0 with value: 0.9.\n",
      "[I 2024-06-19 07:03:31,261] Trial 5 finished with value: 0.7 and parameters: {'learning_rate': 0.00021564513370614084, 'n_steps': 64, 'gamma': 0.9, 'ent_coef': 0.001968296934864099, 'net_arch': 'small'}. Best is trial 0 with value: 0.9.\n",
      "[I 2024-06-19 07:08:01,085] Trial 6 finished with value: 0.9 and parameters: {'learning_rate': 0.0009513397737850618, 'n_steps': 64, 'gamma': 0.995, 'ent_coef': 5.413600664928123e-06, 'net_arch': 'small'}. Best is trial 0 with value: 0.9.\n",
      "[I 2024-06-19 07:12:30,039] Trial 7 finished with value: 0.6 and parameters: {'learning_rate': 1.0871199006783324e-05, 'n_steps': 64, 'gamma': 0.9999, 'ent_coef': 0.0007615674466285724, 'net_arch': 'small'}. Best is trial 0 with value: 0.9.\n",
      "[I 2024-06-19 07:17:00,880] Trial 8 finished with value: 0.8 and parameters: {'learning_rate': 2.7365172965372236e-05, 'n_steps': 64, 'gamma': 0.999, 'ent_coef': 0.00021841002078592354, 'net_arch': 'small'}. Best is trial 0 with value: 0.9.\n",
      "[I 2024-06-19 07:22:47,712] Trial 9 finished with value: 0.8 and parameters: {'learning_rate': 2.284380124794454e-05, 'n_steps': 16, 'gamma': 0.98, 'ent_coef': 2.2586423016497216e-07, 'net_arch': 'medium'}. Best is trial 0 with value: 0.9.\n"
     ]
    },
    {
     "name": "stdout",
     "output_type": "stream",
     "text": [
      "Best hyperparameters: {'learning_rate': 1.0530410834573308e-05, 'n_steps': 64, 'gamma': 0.9, 'ent_coef': 5.500480737398978e-08, 'net_arch': 'medium'}\n",
      "Best reward: 0.9\n"
     ]
    }
   ],
   "source": [
    "import gymnasium as gym\n",
    "import numpy as np\n",
    "import optuna\n",
    "from stable_baselines3 import A2C\n",
    "from stable_baselines3.common.env_util import make_vec_env\n",
    "from stable_baselines3.common.evaluation import evaluate_policy\n",
    "from matplotlib import pyplot as plt\n",
    "\n",
    "# ... (ColorIdentificationGym class remains the same)\n",
    "\n",
    "def objective(trial):\n",
    "    # Sample hyperparameters\n",
    "    learning_rate = trial.suggest_loguniform('learning_rate', 1e-5, 1e-3)\n",
    "    n_steps = trial.suggest_categorical('n_steps', [8, 16, 32, 64, 128, 256, 512])\n",
    "    gamma = trial.suggest_categorical('gamma', [0.9, 0.95, 0.98, 0.99, 0.995, 0.999, 0.9999])\n",
    "    ent_coef = trial.suggest_loguniform('ent_coef', 0.00000001, 0.1)\n",
    "\n",
    "    net_arch = trial.suggest_categorical('net_arch', [\"small\", \"medium\"])\n",
    "    # Adjust policy_kwargs based on selected net_arch\n",
    "    if net_arch == \"small\":\n",
    "        policy_kwargs = dict(net_arch=[64, 64])\n",
    "    else:\n",
    "        policy_kwargs = dict(net_arch=[256, 256])\n",
    "\n",
    "    # Create environment (non-vectorized)\n",
    "    env = ShapePatternMatchingGym()\n",
    "\n",
    "    # Create the model with the sampled hyperparameters\n",
    "    model = A2C(\"MlpPolicy\", env, learning_rate=learning_rate, \n",
    "                n_steps=n_steps, gamma=gamma, ent_coef=ent_coef, \n",
    "                policy_kwargs=policy_kwargs, verbose=0)  \n",
    "    model.learn(total_timesteps=500000)\n",
    "\n",
    "    # Evaluate the model\n",
    "    mean_reward, _ = evaluate_policy(model, env, n_eval_episodes=10)\n",
    "    return mean_reward\n",
    "\n",
    "# Create the study and start the optimization process\n",
    "study = optuna.create_study(direction='maximize')\n",
    "study.optimize(objective, n_trials=10)  # Try 10 different hyperparameter combinations\n",
    "\n",
    "# Print the best hyperparameters and their associated reward\n",
    "print(\"Best hyperparameters:\", study.best_params)\n",
    "print(\"Best reward:\", study.best_value)\n"
   ]
  },
  {
   "cell_type": "code",
   "execution_count": 183,
   "id": "1e9a5902",
   "metadata": {},
   "outputs": [
    {
     "data": {
      "text/plain": [
       "{'learning_rate': 1.0530410834573308e-05,\n",
       " 'n_steps': 64,\n",
       " 'gamma': 0.9,\n",
       " 'ent_coef': 5.500480737398978e-08,\n",
       " 'net_arch': 'medium'}"
      ]
     },
     "execution_count": 183,
     "metadata": {},
     "output_type": "execute_result"
    }
   ],
   "source": [
    "study.best_params"
   ]
  },
  {
   "cell_type": "code",
   "execution_count": 184,
   "id": "03153465",
   "metadata": {},
   "outputs": [
    {
     "data": {
      "text/plain": [
       "<stable_baselines3.a2c.a2c.A2C at 0x7f5e87e44750>"
      ]
     },
     "execution_count": 184,
     "metadata": {},
     "output_type": "execute_result"
    }
   ],
   "source": [
    "# Instantiate the environment\n",
    "env = ShapePatternMatchingGym()  \n",
    "\n",
    "policy_kwargs = dict(net_arch=[256, 256])\n",
    "# Create and train the A2C agent\n",
    "model = A2C(\"MlpPolicy\", env, learning_rate=1.0530410834573308e-05, \n",
    "                n_steps=64, gamma=0.9, ent_coef=5.500480737398978e-08, \n",
    "                policy_kwargs=policy_kwargs, verbose=0)\n",
    "\n",
    "model.learn(total_timesteps=500000)"
   ]
  },
  {
   "cell_type": "code",
   "execution_count": 1,
   "id": "3d959bc4",
   "metadata": {},
   "outputs": [],
   "source": [
    "import pandas as pd"
   ]
  },
  {
   "cell_type": "code",
   "execution_count": 2,
   "id": "669c0248",
   "metadata": {},
   "outputs": [
    {
     "name": "stdout",
     "output_type": "stream",
     "text": [
      "Base knowledge (counting): [1, 2, 3, 4, 5, 6, 7, 8, 9, 10]\n",
      "Reference equation for addition: 5 + 3 = 8\n",
      "Reference equation for subtraction: 5 - 3 = 2\n"
     ]
    }
   ],
   "source": [
    "# Base knowledge: Counting from 1 to n\n",
    "def count_to_n(n):\n",
    "    return list(range(1, n + 1))\n",
    "\n",
    "# Generate reference equations for addition and subtraction\n",
    "def generate_reference_equations(concept, num1, num2):\n",
    "    if concept == \"addition\":\n",
    "        # Reference frame for addition\n",
    "        equation = f\"{num1} + {num2} = {num1 + num2}\"\n",
    "    elif concept == \"subtraction\":\n",
    "        # Reference frame for subtraction\n",
    "        equation = f\"{num1} - {num2} = {num1 - num2}\"\n",
    "    else:\n",
    "        raise ValueError(\"Unsupported concept. Use 'addition' or 'subtraction'.\")\n",
    "    return equation\n",
    "\n",
    "# Example usage\n",
    "n = 10\n",
    "base_knowledge = count_to_n(n)\n",
    "print(\"Base knowledge (counting):\", base_knowledge)\n",
    "\n",
    "# Generating reference equations for addition and subtraction\n",
    "concept1 = \"addition\"\n",
    "concept2 = \"subtraction\"\n",
    "num1 = 5\n",
    "num2 = 3\n",
    "\n",
    "addition_equation = generate_reference_equations(concept1, num1, num2)\n",
    "subtraction_equation = generate_reference_equations(concept2, num1, num2)\n",
    "\n",
    "print(\"Reference equation for addition:\", addition_equation)\n",
    "print(\"Reference equation for subtraction:\", subtraction_equation)\n"
   ]
  },
  {
   "cell_type": "code",
   "execution_count": 4,
   "id": "c8847fbe",
   "metadata": {},
   "outputs": [
    {
     "name": "stdout",
     "output_type": "stream",
     "text": [
      "Base concept: 1 is 1\n",
      "Reference equation for addition: 2 times 1 and 3 times 1 together is 5 times 1\n",
      "Reference equation for subtraction: 5 times 1 minus 3 times 1 is 2 times 1\n"
     ]
    }
   ],
   "source": [
    "class BaseConcept:\n",
    "    def __init__(self):\n",
    "        self.unit = 1  # Base unit is 1\n",
    "\n",
    "    def represent_as_multiples(self, number):\n",
    "        return f\"{number} times {self.unit}\"\n",
    "\n",
    "    def get_base_concept(self):\n",
    "        return f\"1 is {self.unit}\"\n",
    "\n",
    "class AdditionConcept(BaseConcept):\n",
    "    def __init__(self):\n",
    "        super().__init__()\n",
    "\n",
    "    def generate_reference_equation(self, num1, num2):\n",
    "        num1_repr = self.represent_as_multiples(num1)\n",
    "        num2_repr = self.represent_as_multiples(num2)\n",
    "        result = num1 + num2\n",
    "        result_repr = self.represent_as_multiples(result)\n",
    "        equation = f\"{num1_repr} and {num2_repr} together is {result_repr}\"\n",
    "        return equation\n",
    "\n",
    "class SubtractionConcept(BaseConcept):\n",
    "    def __init__(self):\n",
    "        super().__init__()\n",
    "\n",
    "    def generate_reference_equation(self, num1, num2):\n",
    "        num1_repr = self.represent_as_multiples(num1)\n",
    "        num2_repr = self.represent_as_multiples(num2)\n",
    "        result = num1 - num2\n",
    "        result_repr = self.represent_as_multiples(result)\n",
    "        equation = f\"{num1_repr} minus {num2_repr} is {result_repr}\"\n",
    "        return equation\n",
    "\n",
    "# Example usage\n",
    "\n",
    "# Base knowledge\n",
    "base_concept = BaseConcept()\n",
    "print(\"Base concept:\", base_concept.get_base_concept())\n",
    "\n",
    "# Addition concept based on base knowledge\n",
    "addition_concept = AdditionConcept()\n",
    "num1, num2 = 2, 3\n",
    "addition_equation = addition_concept.generate_reference_equation(num1, num2)\n",
    "print(\"Reference equation for addition:\", addition_equation)\n",
    "\n",
    "# Subtraction concept based on base knowledge\n",
    "subtraction_concept = SubtractionConcept()\n",
    "num1, num2 = 5, 3\n",
    "subtraction_equation = subtraction_concept.generate_reference_equation(num1, num2)\n",
    "print(\"Reference equation for subtraction:\", subtraction_equation)\n"
   ]
  },
  {
   "cell_type": "code",
   "execution_count": null,
   "id": "1d682d73",
   "metadata": {},
   "outputs": [],
   "source": [
    "#rehea"
   ]
  }
 ],
 "metadata": {
  "kernelspec": {
   "display_name": "Python 3 (ipykernel)",
   "language": "python",
   "name": "python3"
  },
  "language_info": {
   "codemirror_mode": {
    "name": "ipython",
    "version": 3
   },
   "file_extension": ".py",
   "mimetype": "text/x-python",
   "name": "python",
   "nbconvert_exporter": "python",
   "pygments_lexer": "ipython3",
   "version": "3.11.5"
  }
 },
 "nbformat": 4,
 "nbformat_minor": 5
}
